{
  "nbformat": 4,
  "nbformat_minor": 0,
  "metadata": {
    "colab": {
      "provenance": []
    },
    "kernelspec": {
      "name": "python3",
      "display_name": "Python 3"
    },
    "language_info": {
      "name": "python"
    }
  },
  "cells": [
    {
      "cell_type": "code",
      "execution_count": null,
      "metadata": {
        "id": "lrpwbVjmVlrh"
      },
      "outputs": [],
      "source": []
    },
    {
      "cell_type": "markdown",
      "source": [
        "Name: Stephen Atienza <br>\n",
        "Course and Section: CPE32S9 <br>\n",
        "Instructor: Engr. Roman Richard <br>"
      ],
      "metadata": {
        "id": "acu8GYqyXnC3"
      }
    },
    {
      "cell_type": "code",
      "source": [
        "import numpy as np\n",
        "import pandas as pd"
      ],
      "metadata": {
        "id": "f-EFR04FYdN0"
      },
      "execution_count": 15,
      "outputs": []
    },
    {
      "cell_type": "markdown",
      "source": [
        "SET C\n",
        "\n",
        "Write a Python program using Pandas to select the rows the score is between 15 and 20 (inclusive)."
      ],
      "metadata": {
        "id": "xxe_t5NbblYr"
      }
    },
    {
      "cell_type": "code",
      "source": [
        "exam_data = {'name': ['Anastasia', 'Dima', 'Katherine', 'James', 'Emily', 'Michael', 'Matthew', 'Laura', 'Kevin', 'Jonas'],\n",
        "'score': [12.5, 9, 16.5, 9, 20, 14.5, 8, 19],\n",
        "'attempts': [1, 3, 2, 3, 2, 3, 1, 1, 2, 1],\n",
        "'qualify': ['yes', 'no', 'yes', 'no', 'no', 'yes', 'yes', 'no', 'no', 'yes']}\n",
        "labels = ['a', 'b', 'c', 'd', 'e', 'f', 'g', 'h', 'i', 'j']"
      ],
      "metadata": {
        "id": "cAHisCGrX3Jc"
      },
      "execution_count": 16,
      "outputs": []
    },
    {
      "cell_type": "code",
      "source": [
        "Data = \"exam_data\""
      ],
      "metadata": {
        "id": "oQegXrDVZoGl"
      },
      "execution_count": 20,
      "outputs": []
    },
    {
      "cell_type": "code",
      "source": [
        "Data2 = \"labels\""
      ],
      "metadata": {
        "id": "0-rZ96becOY7"
      },
      "execution_count": 21,
      "outputs": []
    },
    {
      "cell_type": "code",
      "source": [
        "select data"
      ],
      "metadata": {
        "id": "ozuGaNwmcToT"
      },
      "execution_count": null,
      "outputs": []
    }
  ]
}